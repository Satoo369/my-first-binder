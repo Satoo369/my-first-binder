{
 "cells": [
  {
   "cell_type": "code",
   "execution_count": 4,
   "id": "51f9cf2d-a565-4c75-a3d9-1fdd478a9b76",
   "metadata": {},
   "outputs": [
    {
     "ename": "SyntaxError",
     "evalue": "invalid character '、' (U+3001) (1140765970.py, line 6)",
     "output_type": "error",
     "traceback": [
      "\u001b[1;36m  Cell \u001b[1;32mIn[4], line 6\u001b[1;36m\u001b[0m\n\u001b[1;33m    - 基本的には、SHIFT + ENTERを押せばK。#\u001b[0m\n\u001b[1;37m           ^\u001b[0m\n\u001b[1;31mSyntaxError\u001b[0m\u001b[1;31m:\u001b[0m invalid character '、' (U+3001)\n"
     ]
    }
   ],
   "source": [
    "### 説明\n",
    "\r",
    "# \n",
    "- プロ調の就職内定率でるものるです\n",
    "# \n",
    "- 基本的には、SHIFT + ENTERを押せばK。# \r\n",
    "- 途中の`weight_back_rounded`が今回のWB値です# 。\r\n",
    "- 同一フォルダ階層内に、ローデータ、`weight_ideal.csv`を入れる必要が# あり\n",
    "- Next ８月のリリース全体を出してみ# る\n",
    "\n",
    "https://shushokumirai.recruit.co.jp/wp-content/uploads/2024/08/naitei_25s-20240ます。\r\n"
   ]
  },
  {
   "cell_type": "code",
   "execution_count": 6,
   "id": "513c0be4-1a84-4ad4-89ea-c3980aa3d13e",
   "metadata": {},
   "outputs": [
    {
     "name": "stderr",
     "output_type": "stream",
     "text": [
      "C:\\Users\\01053269\\AppData\\Local\\Temp\\ipykernel_32236\\275610922.py:4: DtypeWarning: Columns (53,220,221,253,272,273,274,275,336,337,338,339,340,341,342,343,344,386) have mixed types. Specify dtype option on import or set low_memory=False.\n",
      "  df = pd.read_csv('raw_f1170022.csv', encoding='shift-jis')\n"
     ]
    },
    {
     "data": {
      "text/html": [
       "<div>\n",
       "<style scoped>\n",
       "    .dataframe tbody tr th:only-of-type {\n",
       "        vertical-align: middle;\n",
       "    }\n",
       "\n",
       "    .dataframe tbody tr th {\n",
       "        vertical-align: top;\n",
       "    }\n",
       "\n",
       "    .dataframe thead th {\n",
       "        text-align: right;\n",
       "    }\n",
       "</style>\n",
       "<table border=\"1\" class=\"dataframe\">\n",
       "  <thead>\n",
       "    <tr style=\"text-align: right;\">\n",
       "      <th></th>\n",
       "      <th>KEY</th>\n",
       "      <th>TREND</th>\n",
       "      <th>QID</th>\n",
       "      <th>UNI[1]</th>\n",
       "      <th>UNI[2]</th>\n",
       "      <th>UNI[3]</th>\n",
       "      <th>UNI[4]</th>\n",
       "      <th>UNI[5]</th>\n",
       "      <th>UNI[6]</th>\n",
       "      <th>AREA</th>\n",
       "      <th>...</th>\n",
       "      <th>SSQ10_2[4]</th>\n",
       "      <th>SSQ10_2[5]</th>\n",
       "      <th>SSQ10_2[6]</th>\n",
       "      <th>SSQ13[1]</th>\n",
       "      <th>SSQ13[2]</th>\n",
       "      <th>SSQ13[3]</th>\n",
       "      <th>SSQ13[4]</th>\n",
       "      <th>SSQ13[5]</th>\n",
       "      <th>SSQ13[6]</th>\n",
       "      <th>T_ALL</th>\n",
       "    </tr>\n",
       "  </thead>\n",
       "  <tbody>\n",
       "    <tr>\n",
       "      <th>0</th>\n",
       "      <td>106000010</td>\n",
       "      <td>1</td>\n",
       "      <td>80000823</td>\n",
       "      <td>0.0</td>\n",
       "      <td>0.0</td>\n",
       "      <td>0.0</td>\n",
       "      <td>0.0</td>\n",
       "      <td>0.0</td>\n",
       "      <td>1.0</td>\n",
       "      <td>2</td>\n",
       "      <td>...</td>\n",
       "      <td>NaN</td>\n",
       "      <td>NaN</td>\n",
       "      <td>NaN</td>\n",
       "      <td>NaN</td>\n",
       "      <td>NaN</td>\n",
       "      <td>NaN</td>\n",
       "      <td>NaN</td>\n",
       "      <td>NaN</td>\n",
       "      <td>NaN</td>\n",
       "      <td>0.803316</td>\n",
       "    </tr>\n",
       "    <tr>\n",
       "      <th>1</th>\n",
       "      <td>106000030</td>\n",
       "      <td>1</td>\n",
       "      <td>80000493</td>\n",
       "      <td>NaN</td>\n",
       "      <td>NaN</td>\n",
       "      <td>NaN</td>\n",
       "      <td>NaN</td>\n",
       "      <td>NaN</td>\n",
       "      <td>NaN</td>\n",
       "      <td>2</td>\n",
       "      <td>...</td>\n",
       "      <td>0.0</td>\n",
       "      <td>0.0</td>\n",
       "      <td>1.0</td>\n",
       "      <td>0.0</td>\n",
       "      <td>0.0</td>\n",
       "      <td>1.0</td>\n",
       "      <td>0.0</td>\n",
       "      <td>0.0</td>\n",
       "      <td>0.0</td>\n",
       "      <td>1.000000</td>\n",
       "    </tr>\n",
       "    <tr>\n",
       "      <th>2</th>\n",
       "      <td>106000006</td>\n",
       "      <td>1</td>\n",
       "      <td>80002198</td>\n",
       "      <td>1.0</td>\n",
       "      <td>1.0</td>\n",
       "      <td>0.0</td>\n",
       "      <td>0.0</td>\n",
       "      <td>0.0</td>\n",
       "      <td>1.0</td>\n",
       "      <td>6</td>\n",
       "      <td>...</td>\n",
       "      <td>NaN</td>\n",
       "      <td>NaN</td>\n",
       "      <td>NaN</td>\n",
       "      <td>1.0</td>\n",
       "      <td>1.0</td>\n",
       "      <td>1.0</td>\n",
       "      <td>1.0</td>\n",
       "      <td>1.0</td>\n",
       "      <td>0.0</td>\n",
       "      <td>1.039370</td>\n",
       "    </tr>\n",
       "    <tr>\n",
       "      <th>3</th>\n",
       "      <td>106000046</td>\n",
       "      <td>1</td>\n",
       "      <td>80000100</td>\n",
       "      <td>NaN</td>\n",
       "      <td>NaN</td>\n",
       "      <td>NaN</td>\n",
       "      <td>NaN</td>\n",
       "      <td>NaN</td>\n",
       "      <td>NaN</td>\n",
       "      <td>1</td>\n",
       "      <td>...</td>\n",
       "      <td>NaN</td>\n",
       "      <td>NaN</td>\n",
       "      <td>NaN</td>\n",
       "      <td>NaN</td>\n",
       "      <td>NaN</td>\n",
       "      <td>NaN</td>\n",
       "      <td>NaN</td>\n",
       "      <td>NaN</td>\n",
       "      <td>NaN</td>\n",
       "      <td>1.000000</td>\n",
       "    </tr>\n",
       "    <tr>\n",
       "      <th>4</th>\n",
       "      <td>106000028</td>\n",
       "      <td>1</td>\n",
       "      <td>80001306</td>\n",
       "      <td>1.0</td>\n",
       "      <td>1.0</td>\n",
       "      <td>0.0</td>\n",
       "      <td>0.0</td>\n",
       "      <td>0.0</td>\n",
       "      <td>1.0</td>\n",
       "      <td>5</td>\n",
       "      <td>...</td>\n",
       "      <td>NaN</td>\n",
       "      <td>NaN</td>\n",
       "      <td>NaN</td>\n",
       "      <td>1.0</td>\n",
       "      <td>0.0</td>\n",
       "      <td>0.0</td>\n",
       "      <td>0.0</td>\n",
       "      <td>0.0</td>\n",
       "      <td>0.0</td>\n",
       "      <td>1.039370</td>\n",
       "    </tr>\n",
       "  </tbody>\n",
       "</table>\n",
       "<p>5 rows × 1057 columns</p>\n",
       "</div>"
      ],
      "text/plain": [
       "         KEY  TREND       QID  UNI[1]  UNI[2]  UNI[3]  UNI[4]  UNI[5]  UNI[6]  \\\n",
       "0  106000010      1  80000823     0.0     0.0     0.0     0.0     0.0     1.0   \n",
       "1  106000030      1  80000493     NaN     NaN     NaN     NaN     NaN     NaN   \n",
       "2  106000006      1  80002198     1.0     1.0     0.0     0.0     0.0     1.0   \n",
       "3  106000046      1  80000100     NaN     NaN     NaN     NaN     NaN     NaN   \n",
       "4  106000028      1  80001306     1.0     1.0     0.0     0.0     0.0     1.0   \n",
       "\n",
       "   AREA  ...  SSQ10_2[4]  SSQ10_2[5]  SSQ10_2[6]  SSQ13[1]  SSQ13[2]  \\\n",
       "0     2  ...         NaN         NaN         NaN       NaN       NaN   \n",
       "1     2  ...         0.0         0.0         1.0       0.0       0.0   \n",
       "2     6  ...         NaN         NaN         NaN       1.0       1.0   \n",
       "3     1  ...         NaN         NaN         NaN       NaN       NaN   \n",
       "4     5  ...         NaN         NaN         NaN       1.0       0.0   \n",
       "\n",
       "   SSQ13[3]  SSQ13[4]  SSQ13[5]  SSQ13[6]     T_ALL  \n",
       "0       NaN       NaN       NaN       NaN  0.803316  \n",
       "1       1.0       0.0       0.0       0.0  1.000000  \n",
       "2       1.0       1.0       1.0       0.0  1.039370  \n",
       "3       NaN       NaN       NaN       NaN  1.000000  \n",
       "4       0.0       0.0       0.0       0.0  1.039370  \n",
       "\n",
       "[5 rows x 1057 columns]"
      ]
     },
     "execution_count": 6,
     "metadata": {},
     "output_type": "execute_result"
    }
   ],
   "source": [
    "import pandas as pd\n",
    "\n",
    "# CSVファイルを読み込み、データフレームとして格納\n",
    "df = pd.read_csv('raw_f1170022.csv', encoding='shift-jis')\n",
    "\n",
    "# データフレームの最初の5行を表示\n",
    "df.head()\n"
   ]
  },
  {
   "cell_type": "code",
   "execution_count": 8,
   "id": "b890b500-835b-48e4-a025-2c4f11abdd36",
   "metadata": {},
   "outputs": [],
   "source": [
    "# すべての列が表示されるようにPandasの設定を変更\n",
    "pd.set_option('display.max_columns', None)"
   ]
  },
  {
   "cell_type": "code",
   "execution_count": 10,
   "id": "44f37efe-761d-4de5-9739-0f3c5306bc36",
   "metadata": {},
   "outputs": [],
   "source": [
    "ideal_data = pd.read_csv('weight_ideal.csv', index_col=0)"
   ]
  },
  {
   "cell_type": "code",
   "execution_count": 12,
   "id": "43199b82-1008-4852-a6bd-6d9b9ece0570",
   "metadata": {},
   "outputs": [],
   "source": [
    "# F7が1かつTRENDが7のデータだけを抽出\n",
    "df_filtered = df[(df['F7'] == 1) & (df['TREND'] == 7)]\n",
    "\n",
    "# ピボットテーブルを作成し、各組み合わせの個数を集計\n",
    "pivot_df = df_filtered.pivot_table(index='NF5', columns='NF6', aggfunc='size', fill_value=0)"
   ]
  },
  {
   "cell_type": "code",
   "execution_count": 14,
   "id": "83e026e1-8e50-4491-9cc5-dbb73e9311ab",
   "metadata": {},
   "outputs": [],
   "source": [
    "# インデックスとカラム名をideal_dataに合わせてリネーム\n",
    "pivot_df = pivot_df.rename(index={1: 'a', 2: 'b', 3: 'c'}, columns={1: 'a', 2: 'b', 3: 'c', 4: 'd'})\n",
    "pivot_df = pivot_df.astype(float)"
   ]
  },
  {
   "cell_type": "code",
   "execution_count": 16,
   "id": "35e95e8f-46be-4caa-95ff-834233a17f43",
   "metadata": {},
   "outputs": [],
   "source": [
    "weight_back = ideal_data / pivot_df"
   ]
  },
  {
   "cell_type": "code",
   "execution_count": 18,
   "id": "cfc6667e-434d-4b60-ad5e-65f8efebd36c",
   "metadata": {},
   "outputs": [],
   "source": [
    "# 有効数字8桁でウェイトバック値を丸める\n",
    "weight_back_rounded = weight_back.round(8)"
   ]
  },
  {
   "cell_type": "code",
   "execution_count": 20,
   "id": "ef323555-5311-4446-80d2-ea773f9610ba",
   "metadata": {},
   "outputs": [],
   "source": [
    "# インデックスとカラム名をideal_dataに合わせてリネーム\n",
    "weight_back_rounded = weight_back_rounded.rename(index={'a': '1', 'b': '2', 'c': '3'}, columns={'a': '1', 'b': '2', 'c': '3', 'd': '4'})"
   ]
  },
  {
   "cell_type": "code",
   "execution_count": 22,
   "id": "eaa6359a-d89a-45d8-9f00-620f07c1f2fe",
   "metadata": {},
   "outputs": [
    {
     "data": {
      "text/html": [
       "<div>\n",
       "<style scoped>\n",
       "    .dataframe tbody tr th:only-of-type {\n",
       "        vertical-align: middle;\n",
       "    }\n",
       "\n",
       "    .dataframe tbody tr th {\n",
       "        vertical-align: top;\n",
       "    }\n",
       "\n",
       "    .dataframe thead th {\n",
       "        text-align: right;\n",
       "    }\n",
       "</style>\n",
       "<table border=\"1\" class=\"dataframe\">\n",
       "  <thead>\n",
       "    <tr style=\"text-align: right;\">\n",
       "      <th></th>\n",
       "      <th>1</th>\n",
       "      <th>2</th>\n",
       "      <th>3</th>\n",
       "      <th>4</th>\n",
       "    </tr>\n",
       "  </thead>\n",
       "  <tbody>\n",
       "    <tr>\n",
       "      <th>1</th>\n",
       "      <td>0.626234</td>\n",
       "      <td>0.442008</td>\n",
       "      <td>1.562119</td>\n",
       "      <td>0.697661</td>\n",
       "    </tr>\n",
       "    <tr>\n",
       "      <th>2</th>\n",
       "      <td>1.661051</td>\n",
       "      <td>0.501609</td>\n",
       "      <td>1.123385</td>\n",
       "      <td>0.649658</td>\n",
       "    </tr>\n",
       "    <tr>\n",
       "      <th>3</th>\n",
       "      <td>2.214744</td>\n",
       "      <td>0.944904</td>\n",
       "      <td>1.634634</td>\n",
       "      <td>0.939609</td>\n",
       "    </tr>\n",
       "  </tbody>\n",
       "</table>\n",
       "</div>"
      ],
      "text/plain": [
       "          1         2         3         4\n",
       "1  0.626234  0.442008  1.562119  0.697661\n",
       "2  1.661051  0.501609  1.123385  0.649658\n",
       "3  2.214744  0.944904  1.634634  0.939609"
      ]
     },
     "execution_count": 22,
     "metadata": {},
     "output_type": "execute_result"
    }
   ],
   "source": [
    "weight_back_rounded"
   ]
  },
  {
   "cell_type": "code",
   "execution_count": 24,
   "id": "25a309e5-b123-4c39-a054-75872da9aebd",
   "metadata": {},
   "outputs": [
    {
     "name": "stderr",
     "output_type": "stream",
     "text": [
      "C:\\Users\\01053269\\AppData\\Local\\Temp\\ipykernel_32236\\4149788709.py:2: SettingWithCopyWarning: \n",
      "A value is trying to be set on a copy of a slice from a DataFrame.\n",
      "Try using .loc[row_indexer,col_indexer] = value instead\n",
      "\n",
      "See the caveats in the documentation: https://pandas.pydata.org/pandas-docs/stable/user_guide/indexing.html#returning-a-view-versus-a-copy\n",
      "  df_filtered['Q16'] = df_filtered['Q16'].replace(2, 0)\n"
     ]
    }
   ],
   "source": [
    "# Q16列の値が2のものを0に置き換え\n",
    "df_filtered['Q16'] = df_filtered['Q16'].replace(2, 0)"
   ]
  },
  {
   "cell_type": "code",
   "execution_count": 26,
   "id": "3a2fd6e1-10bf-4f1c-9180-a0b18d3d7df4",
   "metadata": {},
   "outputs": [
    {
     "name": "stdout",
     "output_type": "stream",
     "text": [
      "Index(['1', '2', '3'], dtype='object')\n",
      "Index(['1', '2', '3', '4'], dtype='object')\n"
     ]
    }
   ],
   "source": [
    "# weight_back_rounded のインデックスとカラムを確認\n",
    "print(weight_back_rounded.index)  # 行名（NF5に対応）\n",
    "print(weight_back_rounded.columns)  # 列名（NF6に対応）\n",
    "# weight_back_rounded のインデックスとカラムを数値に変換\n",
    "weight_back_rounded.index = weight_back_rounded.index.astype(int)\n",
    "weight_back_rounded.columns = weight_back_rounded.columns.astype(int)"
   ]
  },
  {
   "cell_type": "code",
   "execution_count": 28,
   "id": "d5abc6cc-cfae-4437-8cfe-5fe64d56ed7c",
   "metadata": {},
   "outputs": [
    {
     "name": "stderr",
     "output_type": "stream",
     "text": [
      "C:\\Users\\01053269\\AppData\\Local\\Temp\\ipykernel_32236\\3976886925.py:1: SettingWithCopyWarning: \n",
      "A value is trying to be set on a copy of a slice from a DataFrame.\n",
      "Try using .loc[row_indexer,col_indexer] = value instead\n",
      "\n",
      "See the caveats in the documentation: https://pandas.pydata.org/pandas-docs/stable/user_guide/indexing.html#returning-a-view-versus-a-copy\n",
      "  df_filtered['weight_value'] = df_filtered.apply(\n"
     ]
    }
   ],
   "source": [
    "df_filtered['weight_value'] = df_filtered.apply(\n",
    "    lambda row: weight_back_rounded.loc[int(row['NF5']), int(row['NF6'])], axis=1\n",
    ")\n"
   ]
  },
  {
   "cell_type": "code",
   "execution_count": 44,
   "id": "72e65562-afb0-4881-8f68-f0d0754c8150",
   "metadata": {},
   "outputs": [],
   "source": [
    "df_uni_1 = df_filtered[df_filtered['UNI[1]'] == 1].copy()"
   ]
  },
  {
   "cell_type": "code",
   "execution_count": 30,
   "id": "e66c4d5d-0802-46de-a144-5a58cdab7bea",
   "metadata": {},
   "outputs": [
    {
     "name": "stdout",
     "output_type": "stream",
     "text": [
      "全体割合: 88.0\n",
      "文理別ごとのウェイトバック後のQ16が1の割合:\n",
      "  BD1[1]: 86.9\n",
      "  BD1[2]: 90.6\n",
      "男女別ごとのウェイトバック後のQ16が1の割合:\n",
      "  BD1[3]: 87.1\n",
      "  BD1[4]: 89.1\n",
      "地域別ごとのウェイトバック後のQ16が1の割合:\n",
      "  BD1[5]: 88.9\n",
      "  BD1[6]: 92.1\n",
      "  BD1[7]: 88.7\n",
      "  BD1[8]: 81.8\n"
     ]
    }
   ],
   "source": [
    "df_uni_1 = df_filtered[df_filtered['UNI[1]'] == 1].copy()\n",
    "# UNI[1]が1で、Q16が1の行に対してweight_valueを掛けた合計を計算\n",
    "weighted_q16_1_sum_uni_1 = df_uni_1[df_uni_1['Q16'] == 1]['weight_value'].sum()\n",
    "\n",
    "# UNI[1]が1のデータ全体のweight_valueの合計を計算\n",
    "total_weight_sum_uni_1 = df_uni_1['weight_value'].sum()\n",
    "\n",
    "# UNI[1]が1かつQ16が1のウェイトバック後の割合を計算\n",
    "weighted_q16_1_ratio_uni_1 = round(weighted_q16_1_sum_uni_1 / total_weight_sum_uni_1 * 100,1)\n",
    "\n",
    "categories = {\n",
    "    '文理別': ['BD1[1]', 'BD1[2]'],  # 文系と理系\n",
    "    '男女別': ['BD1[3]', 'BD1[4]'],  # 男子と女子\n",
    "    '地域別': ['BD1[5]', 'BD1[6]', 'BD1[7]', 'BD1[8]']  # 関東、中部、近畿、その他\n",
    "}\n",
    "\n",
    "# 結果を格納するための辞書\n",
    "result_ratios = {}\n",
    "\n",
    "# 各カテゴリーごとにウェイトバック後のQ16が1の割合を計算\n",
    "for category, columns in categories.items():\n",
    "    result_ratios[category] = {}\n",
    "    for col in columns:\n",
    "        # 該当する列の値が1のデータのみをフィルタリング\n",
    "        df_uni_1_category = df_uni_1[df_uni_1[col] == 1]\n",
    "        \n",
    "        # 該当カテゴリーでQ16が1の行に対してweight_valueを掛けた合計\n",
    "        weighted_q16_1_sum = df_uni_1_category[df_uni_1_category['Q16'] == 1]['weight_value'].sum()\n",
    "        \n",
    "        # 該当カテゴリーの全体のweight_valueの合計\n",
    "        total_weight_sum = df_uni_1_category['weight_value'].sum()\n",
    "        \n",
    "        # ウェイトバック後のQ16が1の割合を計算\n",
    "        weighted_q16_1_ratio = weighted_q16_1_sum / total_weight_sum if total_weight_sum != 0 else 0\n",
    "        \n",
    "        # 結果を辞書に保存\n",
    "        result_ratios[category][col] = round(weighted_q16_1_ratio * 100, 1)\n",
    "\n",
    "\n",
    "print(f\"全体割合: {weighted_q16_1_ratio_uni_1}\")\n",
    "# 結果を表示\n",
    "for category, ratios in result_ratios.items():\n",
    "    print(f\"{category}ごとのウェイトバック後のQ16が1の割合:\")\n",
    "    for col, ratio in ratios.items():\n",
    "        print(f\"  {col}: {ratio}\")\n"
   ]
  },
  {
   "cell_type": "code",
   "execution_count": 46,
   "id": "e187d5fd-b8a7-44b5-9ac8-ac504342b292",
   "metadata": {},
   "outputs": [
    {
     "name": "stdout",
     "output_type": "stream",
     "text": [
      "df_uni_1におけるウェイトバック後の1の割合（NaNを除外）: {'T_N2Q19[1]': 0.07573492870980301, 'T_N2Q19[2]': 0.1748134935641662, 'T_N2Q19[3]': 0.1574296006436411, 'T_N2Q19[4]': 0.02340885972583907, 'T_N2Q19[5]': 0.2767371338560663, 'T_N2Q19[6]': 0.08071439266002475, 'T_N2Q19[7]': 0.03861868133561442, 'T_N2Q19[8]': 0.10363452009957916, 'T_N2Q19[9]': 0.1423936545965695, 'T_N2Q19[10]': 0.02827855203240692, 'T_N2Q19[11]': 0.04581246179053941, 'T_N2Q19[12]': 0.0850937563140598, 'T_N2Q19[13]': 0.022431938481595776, 'T_N2Q19[14]': 0.14773498448399378}\n"
     ]
    }
   ],
   "source": [
    "# ウェイトバック後の割合を計算する関数（NaNを除外した上で計算）\n",
    "def calculate_weighted_ratio_by_columns(df, columns):\n",
    "    result = {}\n",
    "    for col in columns:\n",
    "        # NaNを除外して、1の合計ウェイトを計算\n",
    "        filtered_df = df[df[col].notna()]\n",
    "        \n",
    "        # 各列における1の合計ウェイトを計算\n",
    "        weighted_sum_1 = filtered_df[filtered_df[col] == 1]['weight_value'].sum()\n",
    "        total_weight_sum = filtered_df['weight_value'].sum()\n",
    "        \n",
    "        # 割合を計算\n",
    "        weighted_ratio = weighted_sum_1 / total_weight_sum if total_weight_sum != 0 else 0\n",
    "        result[col] = weighted_ratio\n",
    "    return result\n",
    "\n",
    "# T_N2Q19の列名リスト\n",
    "t_n2q19_columns = [f'T_N2Q19[{i}]' for i in range(1, 15)]  # T_N2Q19[1]からT_N2Q19[14]までの列\n",
    "\n",
    "# df_uni_1でフィルタリングしたデータに対して、NaNを除外してウェイトバック後の割合を計算\n",
    "ratio_weighted_uni_1 = calculate_weighted_ratio_by_columns(df_uni_1, t_n2q19_columns)\n",
    "\n",
    "# 結果を表示\n",
    "print(\"df_uni_1におけるウェイトバック後の1の割合（NaNを除外）:\", ratio_weighted_uni_1)\n"
   ]
  },
  {
   "cell_type": "code",
   "execution_count": 34,
   "id": "61f8b8ce-4cec-4ef1-81e1-fae4f358b0fa",
   "metadata": {},
   "outputs": [
    {
     "name": "stdout",
     "output_type": "stream",
     "text": [
      "df_uni_1におけるT_NQ25のウェイトバック後の1の割合（NaNを除外）: {'T_NQ25[1]': 0.11419930197434046, 'T_NQ25[2]': 0.21899065991838196, 'T_NQ25[3]': 0.4421625425629253, 'T_NQ25[4]': 0.42496832014582797, 'T_NQ25[5]': 0.36824102695860517, 'T_NQ25[6]': 0.2924433322146267, 'T_NQ25[7]': 0.6116390208477253, 'T_NQ25[8]': 0.6506796892519877}\n"
     ]
    }
   ],
   "source": [
    "\n",
    "# T_NQ25の列名リスト\n",
    "t_nq25_columns = [f'T_NQ25[{i}]' for i in range(1, 9)]  # T_NQ25[1]からT_NQ25[8]までの列\n",
    "\n",
    "# df_uni_1でフィルタリングしたデータに対して、NaNを除外してウェイトバック後の割合を計算\n",
    "ratio_weighted_uni_1_tnq25 = calculate_weighted_ratio_by_columns(df_uni_1, t_nq25_columns)\n",
    "\n",
    "# 結果を表示\n",
    "print(\"df_uni_1におけるT_NQ25のウェイトバック後の1の割合（NaNを除外）:\", ratio_weighted_uni_1_tnq25)"
   ]
  },
  {
   "cell_type": "code",
   "execution_count": null,
   "id": "89837b07-2842-45cc-ab50-9435a6ac0835",
   "metadata": {},
   "outputs": [],
   "source": [
    "#step 2 MA、足し上げ、それぞれの関数を作る\n",
    "def ma(x, y, self):\n",
    "    hogehoge...\n",
    "\n",
    "def tashiage(x,y, self):\n",
    "    hogehoge..."
   ]
  },
  {
   "cell_type": "code",
   "execution_count": 36,
   "id": "21cd8967-e5a7-43b5-a673-ece8fd09f8c7",
   "metadata": {},
   "outputs": [
    {
     "ename": "NameError",
     "evalue": "name 'hofe' is not defined",
     "output_type": "error",
     "traceback": [
      "\u001b[1;31m---------------------------------------------------------------------------\u001b[0m",
      "\u001b[1;31mNameError\u001b[0m                                 Traceback (most recent call last)",
      "Cell \u001b[1;32mIn[36], line 3\u001b[0m\n\u001b[0;32m      1\u001b[0m \u001b[38;5;66;03m#MA版のコード。\u001b[39;00m\n\u001b[0;32m      2\u001b[0m \u001b[38;5;66;03m#内定取得先企業\u001b[39;00m\n\u001b[1;32m----> 3\u001b[0m hofe\n",
      "\u001b[1;31mNameError\u001b[0m: name 'hofe' is not defined"
     ]
    }
   ],
   "source": [
    "#MA版のコード。\n",
    "#内定取得先企業\n"
   ]
  },
  {
   "cell_type": "code",
   "execution_count": null,
   "id": "f0822ece-a293-47a4-b885-3c803b7c8a33",
   "metadata": {},
   "outputs": [],
   "source": [
    "#それぞれ出した数値をxlsxに吐き出すコードを追加すればOK\n",
    "output = ..."
   ]
  },
  {
   "cell_type": "code",
   "execution_count": 32,
   "id": "cf173f95-90ee-4c5b-99a5-d112de2438db",
   "metadata": {},
   "outputs": [],
   "source": [
    "def calculate_weighted_ratios(df, uni_column, q_column, weight_column, category_columns):\n",
    "    \"\"\"\n",
    "    ウェイトバック後の割合を計算する関数。\n",
    "\n",
    "    Parameters:\n",
    "        df (DataFrame): データフレーム\n",
    "        uni_column (str): フィルタリングするUNI列の名前（例: 'UNI[1]'）\n",
    "        q_column (str): 対象とするQ列の名前（例: 'Q16'）\n",
    "        weight_column (str): ウェイト列の名前（例: 'weight_value'）\n",
    "        category_columns (dict): カテゴリーと列の対応辞書（例: {'文理別': ['BD1[1]', 'BD1[2]']}）\n",
    "\n",
    "    Returns:\n",
    "        dict: 全体とカテゴリーごとの割合を含む辞書\n",
    "    \"\"\"\n",
    "    # UNI列が1のデータをフィルタリング\n",
    "    df_uni_filtered = df[df[uni_column] == 1].copy()\n",
    "\n",
    "    # 全体の割合を計算\n",
    "    weighted_q_sum = df_uni_filtered[df_uni_filtered[q_column] == 1][weight_column].sum()\n",
    "    total_weight_sum = df_uni_filtered[weight_column].sum()\n",
    "    overall_ratio = round(weighted_q_sum / total_weight_sum * 100, 1) if total_weight_sum != 0 else 0\n",
    "\n",
    "    # 各カテゴリーごとの割合を計算\n",
    "    category_ratios = {}\n",
    "    for category, columns in category_columns.items():\n",
    "        category_ratios[category] = {}\n",
    "        for col in columns:\n",
    "            # 該当する列の値が1のデータをフィルタリング\n",
    "            df_category = df_uni_filtered[df_uni_filtered[col] == 1]\n",
    "            \n",
    "            # ウェイトバック後の割合を計算\n",
    "            weighted_q_category_sum = df_category[df_category[q_column] == 1][weight_column].sum()\n",
    "            total_weight_category_sum = df_category[weight_column].sum()\n",
    "            ratio = round(weighted_q_category_sum / total_weight_category_sum * 100, 1) if total_weight_category_sum != 0 else 0\n",
    "            \n",
    "            # 結果を格納\n",
    "            category_ratios[category][col] = ratio\n",
    "\n",
    "    return {\n",
    "        \"全体割合\": overall_ratio,\n",
    "        \"カテゴリー別割合\": category_ratios\n",
    "    }\n"
   ]
  },
  {
   "cell_type": "code",
   "execution_count": 36,
   "id": "701125f9-727e-4faa-97ae-c64c8a384901",
   "metadata": {},
   "outputs": [
    {
     "name": "stdout",
     "output_type": "stream",
     "text": [
      "全体割合: 88.0\n",
      "文理別ごとのウェイトバック後のQ16が1の割合:\n",
      "  BD1[1]: 86.9\n",
      "  BD1[2]: 90.6\n",
      "男女別ごとのウェイトバック後のQ16が1の割合:\n",
      "  BD1[3]: 87.1\n",
      "  BD1[4]: 89.1\n",
      "地域別ごとのウェイトバック後のQ16が1の割合:\n",
      "  BD1[5]: 88.9\n",
      "  BD1[6]: 92.1\n",
      "  BD1[7]: 88.7\n",
      "  BD1[8]: 81.8\n"
     ]
    }
   ],
   "source": [
    "\n",
    "# 使用例\n",
    "categories = {\n",
    "    '文理別': ['BD1[1]', 'BD1[2]'],  # 文系と理系\n",
    "    '男女別': ['BD1[3]', 'BD1[4]'],  # 男子と女子\n",
    "    '地域別': ['BD1[5]', 'BD1[6]', 'BD1[7]', 'BD1[8]']  # 関東、中部、近畿、その他\n",
    "}\n",
    "\n",
    "result = calculate_weighted_ratios(\n",
    "    df=df_filtered,\n",
    "    uni_column='UNI[1]',\n",
    "    q_column='Q16',\n",
    "    weight_column='weight_value',\n",
    "    category_columns=categories\n",
    ")\n",
    "\n",
    "# 結果の出力\n",
    "print(f\"全体割合: {result['全体割合']}\")\n",
    "for category, ratios in result['カテゴリー別割合'].items():\n",
    "    print(f\"{category}ごとのウェイトバック後のQ16が1の割合:\")\n",
    "    for col, ratio in ratios.items():\n",
    "        print(f\"  {col}: {ratio}\")\n"
   ]
  },
  {
   "cell_type": "code",
   "execution_count": 140,
   "id": "d2c64e49-945a-4eab-a6db-8a97197ef6f0",
   "metadata": {},
   "outputs": [],
   "source": [
    "def calculate_weighted_ratios(df, columns, weight_column='weight_value'):\n",
    "    \"\"\"\n",
    "    指定した列に対して、NaNを除外してウェイトバック後の1の割合を計算する関数。\n",
    "\n",
    "    Parameters:\n",
    "        df (DataFrame): データフレーム\n",
    "        columns (list): 割合を計算する対象の列名のリスト\n",
    "        weight_column (str): ウェイト列の名前（デフォルト: 'weight_value'）\n",
    "\n",
    "    Returns:\n",
    "        dict: 各列に対するウェイトバック後の割合を格納した辞書\n",
    "    \"\"\"\n",
    "    result = {}\n",
    "    for col in columns:\n",
    "        # NaNを除外\n",
    "        filtered_df = df[df[col].notna()]\n",
    "        \n",
    "        # '1'の合計ウェイトを計算\n",
    "        weighted_sum_1 = filtered_df[filtered_df[col] == 1][weight_column].sum()\n",
    "        \n",
    "        # 全体のウェイトの合計を計算\n",
    "        total_weight_sum = filtered_df[weight_column].sum()\n",
    "        \n",
    "        # 割合を計算\n",
    "        weighted_ratio = weighted_sum_1 / total_weight_sum if total_weight_sum != 0 else 0\n",
    "        \n",
    "        # 結果を辞書に格納\n",
    "        result[col] = round(weighted_ratio * 100, 1)  # パーセントに変換して四捨五入\n",
    "    return result"
   ]
  },
  {
   "cell_type": "code",
   "execution_count": 48,
   "id": "04c0f139-84f3-4bf2-bfc9-124dc5d8967b",
   "metadata": {},
   "outputs": [
    {
     "name": "stdout",
     "output_type": "stream",
     "text": [
      "ウェイトバック後の1の割合（NaNを除外）:\n",
      "T_N2Q19[1]: 7.6%\n",
      "T_N2Q19[2]: 17.5%\n",
      "T_N2Q19[3]: 15.7%\n",
      "T_N2Q19[4]: 2.3%\n",
      "T_N2Q19[5]: 27.7%\n",
      "T_N2Q19[6]: 8.1%\n",
      "T_N2Q19[7]: 3.9%\n",
      "T_N2Q19[8]: 10.4%\n",
      "T_N2Q19[9]: 14.2%\n",
      "T_N2Q19[10]: 2.8%\n",
      "T_N2Q19[11]: 4.6%\n",
      "T_N2Q19[12]: 8.5%\n",
      "T_N2Q19[13]: 2.2%\n",
      "T_N2Q19[14]: 14.8%\n"
     ]
    }
   ],
   "source": [
    "\n",
    "# 使用例\n",
    "t_n2q19_columns = [f'T_N2Q19[{i}]' for i in range(1, 15)]  # T_N2Q19[1]からT_N2Q19[14]までの列\n",
    "\n",
    "# NaNを除外してウェイトバック後の割合を計算\n",
    "ratios = calculate_weighted_ratios(df_uni_1, t_n2q19_columns, weight_column='weight_value')\n",
    "\n",
    "# 結果を表示\n",
    "print(\"内定取得先企業の業種：ウェイトバック後の1の割合（NaNを除外）:\")\n",
    "for col, ratio in ratios.items():\n",
    "    print(f\"{col}: {ratio}%\")\n"
   ]
  },
  {
   "cell_type": "code",
   "execution_count": 54,
   "id": "62e4c951-eae9-41b5-8af9-bfb936858285",
   "metadata": {},
   "outputs": [
    {
     "name": "stdout",
     "output_type": "stream",
     "text": [
      "内定取得先企業の従業員規模：ウェイトバック後の1の割合（NaNを除外）:\n",
      "T_NQ25[1]: 11.4%\n",
      "T_NQ25[2]: 21.9%\n",
      "T_NQ25[3]: 44.2%\n",
      "T_NQ25[4]: 42.5%\n",
      "T_NQ25[5]: 36.8%\n",
      "T_NQ25[6]: 29.2%\n",
      "T_NQ25[7]: 61.2%\n",
      "T_NQ25[8]: 65.1%\n"
     ]
    }
   ],
   "source": [
    "# 内定取得先企業の従業員規模\n",
    "t_nq25_columns = [f'T_NQ25[{i}]' for i in range(1, 9)]  # T_N2Q19[1]からT_N2Q19[14]までの列\n",
    "\n",
    "# NaNを除外してウェイトバック後の割合を計算\n",
    "ratios_q25 = calculate_weighted_ratios(df_uni_1, t_nq25_columns, weight_column='weight_value')\n",
    "\n",
    "# 結果を表示\n",
    "print(\"内定取得先企業の従業員規模：ウェイトバック後の1の割合（NaNを除外）:\")\n",
    "for col, ratio in ratios_q25.items():\n",
    "    print(f\"{col}: {ratio}%\")"
   ]
  },
  {
   "cell_type": "code",
   "execution_count": 136,
   "id": "78a3be03-85f5-4d5f-8f13-66fd1a942cf2",
   "metadata": {},
   "outputs": [],
   "source": [
    "def calculate_weighted_average(df, target_column, weight_column='weight_value', filter_column=None, filter_value=None):\n",
    "    \"\"\"\n",
    "    ウェイトバック後の平均を計算する関数。\n",
    "\n",
    "    Parameters:\n",
    "        df (DataFrame): データフレーム\n",
    "        target_column (str): 計算対象の列（例: 'NQ11_1'）\n",
    "        weight_column (str): ウェイト列の名前（デフォルト: 'weight_value'）\n",
    "        filter_column (str): フィルタリングする列（例: 'UNI[1]'）\n",
    "        filter_value (any): フィルタリングする値（例: 1）\n",
    "\n",
    "    Returns:\n",
    "        float: ウェイトバック後の平均値\n",
    "    \"\"\"\n",
    "    # フィルタリング\n",
    "    filtered_df = df.copy()\n",
    "    if filter_column and filter_value is not None:\n",
    "        filtered_df = filtered_df[filtered_df[filter_column] == filter_value]\n",
    "\n",
    "    # NaNを除外して計算\n",
    "    filtered_df = filtered_df[filtered_df[target_column].notna()]\n",
    "    \n",
    "    # ウェイトバック後の平均計算\n",
    "    weighted_sum = (filtered_df[target_column] * filtered_df[weight_column]).sum()\n",
    "    total_weight = filtered_df[weight_column].sum()\n",
    "    \n",
    "    # 平均値を計算\n",
    "    weighted_average = weighted_sum / total_weight if total_weight != 0 else None\n",
    "    return round(weighted_average, 2) if weighted_average is not None else None\n"
   ]
  },
  {
   "cell_type": "code",
   "execution_count": 64,
   "id": "f27433c2-26aa-47eb-97f3-81523ef73c4d",
   "metadata": {},
   "outputs": [
    {
     "name": "stdout",
     "output_type": "stream",
     "text": [
      "NQ11におけるウェイトバック後の平均:\n",
      "NQ11_1: 5.26\n",
      "NQ11_2: 4.04\n",
      "NQ11_3: 5.49\n",
      "NQ11_4: 3.91\n",
      "NQ11_5: 2.1\n"
     ]
    }
   ],
   "source": [
    "# 必要な列名のリストを作成\n",
    "nq11_columns = [f'NQ11_{i}' for i in range(1, 6)]  # NQ11_1からNQ11_5まで\n",
    "\n",
    "# 各列のウェイトバック後の平均を計算して辞書に格納\n",
    "average_nq11 = {}\n",
    "for col in nq11_columns:\n",
    "    avg = calculate_weighted_average(\n",
    "        df=df_uni_1,\n",
    "        target_column=col,\n",
    "        weight_column='weight_value'\n",
    "    )\n",
    "    average_nq11[col] = avg\n",
    "\n",
    "# 結果を表示\n",
    "print(\"NQ11におけるウェイトバック後の平均:\")\n",
    "for col, avg in average_nq11.items():\n",
    "    print(f\"{col}: {avg}\")\n"
   ]
  },
  {
   "cell_type": "code",
   "execution_count": 80,
   "id": "34e97253-b0ad-4376-9819-5aee39e08b56",
   "metadata": {},
   "outputs": [
    {
     "name": "stdout",
     "output_type": "stream",
     "text": [
      "SSQ10_2におけるウェイトバック後の実施率（NaNを除外）:\n",
      "SSQ10_2[1]: 2.6%\n",
      "SSQ10_2[2]: 6.1%\n",
      "SSQ10_2[3]: 16.6%\n",
      "SSQ10_2[4]: 32.0%\n",
      "SSQ10_2[5]: 27.2%\n",
      "SSQ10_2[6]: 63.5%\n"
     ]
    }
   ],
   "source": [
    "# 必要な列名のリストを作成\n",
    "ssq10_2_columns = [f'SSQ10_2[{i}]' for i in range(1, 7)]  # SSQ10_2[1]からSSQ10_2[6]まで\n",
    "\n",
    "# 実施率を計算\n",
    "implementation_ratios = calculate_weighted_ratios(df_uni_1, ssq10_2_columns)\n",
    "\n",
    "# 結果を表示\n",
    "print(\"SSQ10_2におけるウェイトバック後の実施率（NaNを除外）:\")\n",
    "for col, ratio in implementation_ratios.items():\n",
    "    print(f\"{col}: {ratio}%\")\n"
   ]
  },
  {
   "cell_type": "code",
   "execution_count": 142,
   "id": "f69a5bdb-03f0-48fa-b2de-a87f05e2f469",
   "metadata": {},
   "outputs": [
    {
     "name": "stdout",
     "output_type": "stream",
     "text": [
      "NQ6におけるウェイトバック後の実施率（NaNを除外）:\n",
      "NQ6[1]: 79.5%\n",
      "NQ6[2]: 0.6%\n",
      "NQ6[3]: 80.0%\n",
      "NQ6[4]: 20.0%\n"
     ]
    }
   ],
   "source": [
    "# 必要な列名のリストを作成\n",
    "nq6_columns = [f'NQ6[{i}]' for i in range(1, 5)]  # SSQ10_2[1]からSSQ10_2[6]まで\n",
    "\n",
    "# 実施率を計算\n",
    "implementation_ratios = calculate_weighted_ratios(df_uni_1, nq6_columns)\n",
    "\n",
    "# 結果を表示\n",
    "print(\"NQ6におけるウェイトバック後の実施率（NaNを除外）:\")\n",
    "for col, ratio in implementation_ratios.items():\n",
    "    print(f\"{col}: {ratio}%\")"
   ]
  },
  {
   "cell_type": "code",
   "execution_count": 84,
   "id": "03ac5c34-2b72-4ff6-b0cd-afa503c4eafe",
   "metadata": {},
   "outputs": [
    {
     "name": "stdout",
     "output_type": "stream",
     "text": [
      "NQ6[3] のウェイトバック後の1の割合: 60.4%\n"
     ]
    }
   ],
   "source": [
    "# NQ6[3]のウェイトバック後の1の割合を計算\n",
    "weighted_ratio_UQ17 = calculate_weighted_ratios(df_uni_1, ['UQ17'])\n",
    "\n",
    "# 結果を表示\n",
    "print(f\"辞退率：NQ6[3] のウェイトバック後の1の割合: {weighted_ratio_UQ17['UQ17']}%\")"
   ]
  },
  {
   "cell_type": "code",
   "execution_count": 88,
   "id": "9ef5ba00-089b-41b7-ba6b-9e50ad367cbe",
   "metadata": {},
   "outputs": [
    {
     "name": "stdout",
     "output_type": "stream",
     "text": [
      "就職確定先：TNQ36のウェイトバック後の割合（全体を100%とした場合）:\n",
      "1.0: 5.2%\n",
      "2.0: 13.2%\n",
      "3.0: 12.5%\n",
      "4.0: 1.5%\n",
      "5.0: 24.6%\n",
      "6.0: 5.0%\n",
      "7.0: 3.0%\n",
      "8.0: 5.0%\n",
      "9.0: 12.0%\n",
      "10.0: 1.3%\n",
      "11.0: 1.9%\n",
      "12.0: 2.3%\n",
      "13.0: 0.8%\n",
      "14.0: 7.2%\n",
      "15.0: 4.3%\n"
     ]
    }
   ],
   "source": [
    "# TNQ36の値ごとのウェイト付き割合を計算\n",
    "def calculate_weighted_percentage(df, target_column, weight_column):\n",
    "    # 欠損値を除外\n",
    "    filtered_df = df[df[target_column].notna()]\n",
    "    \n",
    "    # 値ごとにウェイトの合計を計算\n",
    "    weighted_sums = filtered_df.groupby(target_column)[weight_column].sum()\n",
    "    \n",
    "    # 全体のウェイトの合計を計算\n",
    "    total_weight = filtered_df[weight_column].sum()\n",
    "    \n",
    "    # 各値の割合を計算\n",
    "    weighted_percentages = (weighted_sums / total_weight) * 100\n",
    "    \n",
    "    return weighted_percentages\n",
    "\n",
    "# TNQ36のウェイト付き割合を計算\n",
    "weighted_percentages_tnq36 = calculate_weighted_percentage(df_uni_1, 'TNQ36', 'weight_value')\n",
    "\n",
    "# 結果を表示\n",
    "print(\"就職確定先：TNQ36のウェイトバック後の割合（全体を100%とした場合）:\")\n",
    "for value, percentage in weighted_percentages_tnq36.sort_index().items():\n",
    "    print(f\"{value}: {round(percentage, 1)}%\")\n"
   ]
  },
  {
   "cell_type": "code",
   "execution_count": 92,
   "id": "02bb8d49-39ae-41f3-b80d-6247952e231e",
   "metadata": {},
   "outputs": [
    {
     "name": "stdout",
     "output_type": "stream",
     "text": [
      "NQ37におけるウェイトバック後の1の割合:\n",
      "NQ37[1]: 8.1%\n",
      "NQ37[2]: 10.5%\n",
      "NQ37[3]: 27.6%\n",
      "NQ37[4]: 26.9%\n",
      "NQ37[5]: 26.8%\n"
     ]
    }
   ],
   "source": [
    "# NQ37の列名リストを作成\n",
    "nq37_columns = [f'NQ37[{i}]' for i in range(1, 6)]  # NQ37[1]からNQ37[5]まで\n",
    "\n",
    "# ウェイトバック後の1の割合を計算\n",
    "weighted_ratios_nq37 = calculate_weighted_ratios(df_uni_1, nq37_columns)\n",
    "\n",
    "# 結果を表示\n",
    "print(\"NQ37におけるウェイトバック後の1の割合:\")\n",
    "for col, ratio in weighted_ratios_nq37.items():\n",
    "    print(f\"{col}: {ratio}%\")\n"
   ]
  },
  {
   "cell_type": "code",
   "execution_count": 94,
   "id": "bfdf747c-f298-4a6b-9297-cdf1d6508286",
   "metadata": {},
   "outputs": [
    {
     "name": "stdout",
     "output_type": "stream",
     "text": [
      "TNQ18_1におけるウェイトバック後の割合（全体を100%とした場合）:\n",
      "TNQ18_1[1]: 0.0%\n",
      "TNQ18_1[2]: 35.1%\n",
      "TNQ18_1[3]: 25.3%\n",
      "TNQ18_1[4]: 21.1%\n",
      "TNQ18_1[5]: 9.2%\n",
      "TNQ18_1[6]: 4.0%\n",
      "TNQ18_1[7]: 5.3%\n",
      "TNQ18_1[8]: 64.9%\n",
      "TNQ18_1[9]: 39.6%\n"
     ]
    }
   ],
   "source": [
    "# TNQ18_1の列名リストを作成\n",
    "tnq18_1_columns = [f'TNQ18_1[{i}]' for i in range(1, 10)]  # TNQ18_1[1]からTNQ18_1[9]まで\n",
    "\n",
    "# ウェイトバック後の割合を計算\n",
    "weighted_ratios_tnq18_1 = calculate_weighted_ratios(df_uni_1, tnq18_1_columns, weight_column='weight_value')\n",
    "\n",
    "# 結果を表示\n",
    "print(\"TNQ18_1におけるウェイトバック後の割合（全体を100%とした場合）:\")\n",
    "for col, ratio in weighted_ratios_tnq18_1.items():\n",
    "    print(f\"{col}: {ratio}%\")\n"
   ]
  },
  {
   "cell_type": "code",
   "execution_count": 98,
   "id": "412ce795-5964-4f10-962a-3a59c01d6962",
   "metadata": {},
   "outputs": [
    {
     "name": "stdout",
     "output_type": "stream",
     "text": [
      "TNQ18_2におけるウェイトバック後の割合（全体を100%とした場合）:\n",
      "TNQ18_2[1]: 1.5%\n",
      "TNQ18_2[2]: 86.3%\n",
      "TNQ18_2[3]: 8.3%\n",
      "TNQ18_2[4]: 3.0%\n",
      "TNQ18_2[5]: 0.6%\n",
      "TNQ18_2[6]: 0.2%\n",
      "TNQ18_2[7]: 0.0%\n",
      "TNQ18_2[8]: 12.1%\n",
      "TNQ18_2[9]: 3.9%\n"
     ]
    }
   ],
   "source": [
    "# TNQ18_1の列名リストを作成\n",
    "tnq18_2_columns = [f'TNQ18_2[{i}]' for i in range(1, 10)]  # TNQ18_1[1]からTNQ18_1[9]まで\n",
    "\n",
    "# ウェイトバック後の割合を計算\n",
    "weighted_ratios_tnq19_1 = calculate_weighted_ratios(df_uni_1, tnq18_2_columns, weight_column='weight_value')\n",
    "\n",
    "# 結果を表示\n",
    "print(\"TNQ18_2におけるウェイトバック後の割合（全体を100%とした場合）:\")\n",
    "for col, ratio in weighted_ratios_tnq19_1.items():\n",
    "    print(f\"{col}: {ratio}%\")\n"
   ]
  },
  {
   "cell_type": "code",
   "execution_count": 102,
   "id": "ac4e5ad1-8e1f-4ce6-b354-2ed5d246ed14",
   "metadata": {},
   "outputs": [
    {
     "name": "stdout",
     "output_type": "stream",
     "text": [
      "TNQ18_2におけるウェイトバック後の割合（全体を100%とした場合）:\n",
      "TNQ18_3[1]: 39.6%\n",
      "TNQ18_3[2]: 26.0%\n",
      "TNQ18_3[3]: 18.9%\n",
      "TNQ18_3[4]: 7.8%\n",
      "TNQ18_3[5]: 2.9%\n",
      "TNQ18_3[6]: 2.5%\n",
      "TNQ18_3[7]: 2.3%\n",
      "TNQ18_3[8]: 34.4%\n",
      "TNQ18_3[9]: 15.5%\n"
     ]
    }
   ],
   "source": [
    "# TNQ18_3の列名リストを作成\n",
    "tnq18_3_columns = [f'TNQ18_3[{i}]' for i in range(1, 10)]  # TNQ18_1[1]からTNQ18_1[9]まで\n",
    "\n",
    "# ウェイトバック後の割合を計算\n",
    "weighted_ratios_tnq18_3 = calculate_weighted_ratios(df_uni_1, tnq18_3_columns, weight_column='weight_value')\n",
    "\n",
    "# 結果を表示\n",
    "print(\"TNQ18_2におけるウェイトバック後の割合（全体を100%とした場合）:\")\n",
    "for col, ratio in weighted_ratios_tnq18_3.items():\n",
    "    print(f\"{col}: {ratio}%\")\n"
   ]
  },
  {
   "cell_type": "code",
   "execution_count": 114,
   "id": "0bd0e053-c7ac-4108-91a0-538adfa7e42f",
   "metadata": {},
   "outputs": [
    {
     "name": "stdout",
     "output_type": "stream",
     "text": [
      "就職確定先：TNQ36のウェイトバック後の割合（全体を100%とした場合）:\n",
      "1.0: 7.7%\n",
      "2.0: 80.7%\n",
      "3.0: 11.6%\n"
     ]
    }
   ],
   "source": [
    "# TNQ36の値ごとのウェイト付き割合を計算\n",
    "def calculate_weighted_percentage(df, target_column, weight_column):\n",
    "    # 欠損値を除外\n",
    "    filtered_df = df[df[target_column].notna()]\n",
    "    \n",
    "    # 値ごとにウェイトの合計を計算\n",
    "    weighted_sums = filtered_df.groupby(target_column)[weight_column].sum()\n",
    "    \n",
    "    # 全体のウェイトの合計を計算\n",
    "    total_weight = filtered_df[weight_column].sum()\n",
    "    \n",
    "    # 各値の割合を計算\n",
    "    weighted_percentages = (weighted_sums / total_weight) * 100\n",
    "    \n",
    "    return weighted_percentages\n",
    "\n",
    "# TNQ36のウェイト付き割合を計算\n",
    "weighted_percentages_q31 = calculate_weighted_percentage(df_uni_1, 'Q31', 'weight_value')\n",
    "\n",
    "# 結果を表示\n",
    "print(\"就職確定先：TNQ36のウェイトバック後の割合（全体を100%とした場合）:\")\n",
    "for value, percentage in weighted_percentages_q31.sort_index().items():\n",
    "    print(f\"{value}: {round(percentage, 1)}%\")\n"
   ]
  },
  {
   "cell_type": "code",
   "execution_count": 116,
   "id": "a0367313-5bd9-42d3-8d35-8508d18af762",
   "metadata": {},
   "outputs": [
    {
     "name": "stdout",
     "output_type": "stream",
     "text": [
      "活動実施率：U1Q4のウェイトバック後の割合（全体を100%とした場合）:\n",
      "1.0: 22.4%\n",
      "2.0: 73.0%\n",
      "3.0: 2.7%\n",
      "4.0: 0.8%\n",
      "5.0: 1.1%\n"
     ]
    }
   ],
   "source": [
    "# TNQ36のウェイト付き割合を計算\n",
    "weighted_percentages_u1q4 = calculate_weighted_percentage(df_uni_1, 'U1Q4', 'weight_value')\n",
    "\n",
    "# 結果を表示\n",
    "print(\"活動実施率：U1Q4のウェイトバック後の割合（全体を100%とした場合）:\")\n",
    "for value, percentage in weighted_percentages_u1q4.sort_index().items():\n",
    "    print(f\"{value}: {round(percentage, 1)}%\")"
   ]
  },
  {
   "cell_type": "code",
   "execution_count": 122,
   "id": "f2b97f91-658f-4c31-ae92-d037cfe1fa2c",
   "metadata": {},
   "outputs": [
    {
     "name": "stdout",
     "output_type": "stream",
     "text": [
      "活動実施率　内定未取得者：U2Q4のウェイトバック後の割合（全体を100%とした場合）:\n",
      "1.0: 15.2%\n",
      "2.0: 82.2%\n",
      "3.0: 1.8%\n",
      "4.0: 0.7%\n",
      "5.0: 0.2%\n"
     ]
    }
   ],
   "source": [
    "# TNQ36のウェイト付き割合を計算\n",
    "weighted_percentages_u2q4 = calculate_weighted_percentage(df_uni_1, 'U2Q4', 'weight_value')\n",
    "\n",
    "# 結果を表示\n",
    "print(\"活動実施率　内定取得者：U2Q4のウェイトバック後の割合（全体を100%とした場合）:\")\n",
    "for value, percentage in weighted_percentages_u2q4.sort_index().items():\n",
    "    print(f\"{value}: {round(percentage, 1)}%\")"
   ]
  },
  {
   "cell_type": "code",
   "execution_count": 126,
   "id": "0d911071-3112-44a6-a986-13b006e45b5c",
   "metadata": {},
   "outputs": [
    {
     "name": "stdout",
     "output_type": "stream",
     "text": [
      "活動実施率　内定未取得者：U3Q4のウェイトバック後の割合（全体を100%とした場合）:\n",
      "1.0: 75.6%\n",
      "2.0: 5.3%\n",
      "3.0: 9.4%\n",
      "4.0: 1.8%\n",
      "5.0: 7.9%\n"
     ]
    }
   ],
   "source": [
    "# TNQ36のウェイト付き割合を計算\n",
    "weighted_percentages_u3q4 = calculate_weighted_percentage(df_uni_1, 'U3Q4', 'weight_value')\n",
    "\n",
    "# 結果を表示\n",
    "print(\"活動実施率　内定未取得者：U3Q4のウェイトバック後の割合（全体を100%とした場合）:\")\n",
    "for value, percentage in weighted_percentages_u3q4.sort_index().items():\n",
    "    print(f\"{value}: {round(percentage, 1)}%\")"
   ]
  },
  {
   "cell_type": "code",
   "execution_count": 132,
   "id": "04e53601-8b84-461d-8bb0-08d30d38abf2",
   "metadata": {},
   "outputs": [
    {
     "name": "stdout",
     "output_type": "stream",
     "text": [
      "全体割合: 22.4\n",
      "文理別ごとのウェイトバック後のQ16が1の割合:\n",
      "  BD1[1]: 25.8\n",
      "  BD1[2]: 14.3\n",
      "男女別ごとのウェイトバック後のQ16が1の割合:\n",
      "  BD1[3]: 20.4\n",
      "  BD1[4]: 24.7\n",
      "地域別ごとのウェイトバック後のQ16が1の割合:\n",
      "  BD1[5]: 21.0\n",
      "  BD1[6]: 21.0\n",
      "  BD1[7]: 26.1\n",
      "  BD1[8]: 22.9\n"
     ]
    }
   ],
   "source": [
    "def calculate_weighted_ratios(df, uni_column, q_column, weight_column, category_columns):\n",
    "    \"\"\"\n",
    "    ウェイトバック後の割合を計算する関数。\n",
    "\n",
    "    Parameters:\n",
    "        df (DataFrame): データフレーム\n",
    "        uni_column (str): フィルタリングするUNI列の名前（例: 'UNI[1]'）\n",
    "        q_column (str): 対象とするQ列の名前（例: 'Q16'）\n",
    "        weight_column (str): ウェイト列の名前（例: 'weight_value'）\n",
    "        category_columns (dict): カテゴリーと列の対応辞書（例: {'文理別': ['BD1[1]', 'BD1[2]']}）\n",
    "\n",
    "    Returns:\n",
    "        dict: 全体とカテゴリーごとの割合を含む辞書\n",
    "    \"\"\"\n",
    "    # UNI列が1のデータをフィルタリング\n",
    "    df_uni_filtered = df[df[uni_column] == 1].copy()\n",
    "\n",
    "    # 全体の割合を計算\n",
    "    weighted_q_sum = df_uni_filtered[df_uni_filtered[q_column] == 1][weight_column].sum()\n",
    "    total_weight_sum = df_uni_filtered[weight_column].sum()\n",
    "    overall_ratio = round(weighted_q_sum / total_weight_sum * 100, 1) if total_weight_sum != 0 else 0\n",
    "\n",
    "    # 各カテゴリーごとの割合を計算\n",
    "    category_ratios = {}\n",
    "    for category, columns in category_columns.items():\n",
    "        category_ratios[category] = {}\n",
    "        for col in columns:\n",
    "            # 該当する列の値が1のデータをフィルタリング\n",
    "            df_category = df_uni_filtered[df_uni_filtered[col] == 1]\n",
    "            \n",
    "            # ウェイトバック後の割合を計算\n",
    "            weighted_q_category_sum = df_category[df_category[q_column] == 1][weight_column].sum()\n",
    "            total_weight_category_sum = df_category[weight_column].sum()\n",
    "            ratio = round(weighted_q_category_sum / total_weight_category_sum * 100, 1) if total_weight_category_sum != 0 else 0\n",
    "            \n",
    "            # 結果を格納\n",
    "            category_ratios[category][col] = ratio\n",
    "\n",
    "    return {\n",
    "        \"全体割合\": overall_ratio,\n",
    "        \"カテゴリー別割合\": category_ratios\n",
    "    }\n",
    "\n",
    "\n",
    "result = calculate_weighted_ratios(\n",
    "    df=df_filtered,\n",
    "    uni_column='UNI[1]',\n",
    "    q_column='U1Q4',\n",
    "    weight_column='weight_value',\n",
    "    category_columns=categories\n",
    ")\n",
    "\n",
    "# 結果の出力\n",
    "print(f\"全体割合: {result['全体割合']}\")\n",
    "for category, ratios in result['カテゴリー別割合'].items():\n",
    "    print(f\"{category}ごとのウェイトバック後のQ16が1の割合:\")\n",
    "    for col, ratio in ratios.items():\n",
    "        print(f\"  {col}: {ratio}\")\n"
   ]
  },
  {
   "cell_type": "code",
   "execution_count": null,
   "id": "f0c11179-0756-403c-bcc6-bca762a2ae70",
   "metadata": {},
   "outputs": [],
   "source": []
  }
 ],
 "metadata": {
  "kernelspec": {
   "display_name": "Python 3 (ipykernel)",
   "language": "python",
   "name": "python3"
  },
  "language_info": {
   "codemirror_mode": {
    "name": "ipython",
    "version": 3
   },
   "file_extension": ".py",
   "mimetype": "text/x-python",
   "name": "python",
   "nbconvert_exporter": "python",
   "pygments_lexer": "ipython3",
   "version": "3.12.4"
  }
 },
 "nbformat": 4,
 "nbformat_minor": 5
}
